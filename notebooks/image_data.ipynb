{
 "cells": [
  {
   "cell_type": "code",
   "execution_count": null,
   "metadata": {},
   "outputs": [],
   "source": [
    "from dotenv import load_dotenv\n",
    "load_dotenv()\n",
    "import requests\n",
    "import os\n",
    "from tqdm import tqdm"
   ]
  },
  {
   "cell_type": "code",
   "execution_count": null,
   "metadata": {},
   "outputs": [],
   "source": [
    "API_KEY = os.getenv(\"TMDB_API_KEY\")"
   ]
  },
  {
   "cell_type": "code",
   "execution_count": null,
   "metadata": {},
   "outputs": [],
   "source": [
    "GENRE_IDS = {\n",
    "    'action': 28,\n",
    "    'comedy': 35, \n",
    "    'horror': 27,\n",
    "    'romance': 10749\n",
    "}\n",
    "BASE_URL = 'https://api.themoviedb.org/3'\n",
    "POSTER_BASE_URL = 'https://image.tmdb.org/t/p/w500'"
   ]
  },
  {
   "cell_type": "code",
   "execution_count": null,
   "metadata": {},
   "outputs": [],
   "source": [
    "\n",
    "\n",
    "def download_posters(num_per_genre=2000):\n",
    "    session = requests.Session()\n",
    "    for genre_name, genre_id in GENRE_IDS.items():\n",
    "        os.makedirs(f\"../data/new_data/{genre_name}\", exist_ok=True)\n",
    "        print(f\"\\nDownloading {genre_name} posters...\")\n",
    "        \n",
    "        downloaded = 0\n",
    "        page = 1\n",
    "        \n",
    "        while downloaded < num_per_genre:\n",
    "            try:\n",
    "                response = session.get(\n",
    "                    f\"{BASE_URL}/discover/movie\",\n",
    "                    params={\n",
    "                        'api_key': API_KEY,\n",
    "                        'with_genres': genre_id,\n",
    "                        'sort_by': 'popularity.desc',\n",
    "                        'page': page,\n",
    "                        'language': 'en-US',\n",
    "                        'include_adult': 'false'\n",
    "                    }\n",
    "                )\n",
    "                \n",
    "                if response.status_code != 200:\n",
    "                    print(f\"Error on page {page}: {response.status_code}\")\n",
    "                    break\n",
    "                    \n",
    "                movies = response.json()['results']\n",
    "                if not movies:\n",
    "                    break\n",
    "                \n",
    "                for movie in movies:\n",
    "                    if downloaded >= num_per_genre:\n",
    "                        break\n",
    "                        \n",
    "                    if not movie.get('poster_path'):\n",
    "                        continue\n",
    "                        \n",
    "                    poster_url = f\"{POSTER_BASE_URL}{movie['poster_path']}\"\n",
    "                    filename = f\"../data/new_data/{genre_name}/{movie['id']}.jpg\"\n",
    "                    \n",
    "                    if os.path.exists(filename):\n",
    "                        continue\n",
    "\n",
    "                    with tqdm(total=1, desc=f\"{genre_name} {downloaded+1}/{num_per_genre}\", \n",
    "                            bar_format=\"{l_bar}{bar:20}{r_bar}\", leave=False) as pbar:\n",
    "                        try:\n",
    "                            response = session.get(poster_url, timeout=15)\n",
    "                            if response.status_code == 200:\n",
    "                                with open(filename, 'wb') as f:\n",
    "                                    f.write(response.content)\n",
    "                                downloaded += 1\n",
    "                                pbar.update(1)\n",
    "                        except Exception as e:\n",
    "                            continue\n",
    "                            \n",
    "                page += 1\n",
    "                time.sleep(0.5)  \n",
    "                \n",
    "            except Exception as e:\n",
    "                print(f\"Critical error: {str(e)}\")\n",
    "                break\n",
    "\n",
    "        print(f\"Downloaded {downloaded} {genre_name} posters\")\n",
    "\n",
    "download_posters(num_per_genre=500)"
   ]
  }
 ],
 "metadata": {
  "kernelspec": {
   "display_name": "Python 3",
   "language": "python",
   "name": "python3"
  },
  "language_info": {
   "name": "python",
   "version": "3.10.16"
  }
 },
 "nbformat": 4,
 "nbformat_minor": 2
}
