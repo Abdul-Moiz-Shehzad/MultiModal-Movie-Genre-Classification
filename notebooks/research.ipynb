{
 "cells": [
  {
   "cell_type": "code",
   "execution_count": 2,
   "metadata": {},
   "outputs": [
    {
     "data": {
      "text/html": [
       "<div>\n",
       "<style scoped>\n",
       "    .dataframe tbody tr th:only-of-type {\n",
       "        vertical-align: middle;\n",
       "    }\n",
       "\n",
       "    .dataframe tbody tr th {\n",
       "        vertical-align: top;\n",
       "    }\n",
       "\n",
       "    .dataframe thead th {\n",
       "        text-align: right;\n",
       "    }\n",
       "</style>\n",
       "<table border=\"1\" class=\"dataframe\">\n",
       "  <thead>\n",
       "    <tr style=\"text-align: right;\">\n",
       "      <th></th>\n",
       "      <th>movie_id</th>\n",
       "      <th>description</th>\n",
       "      <th>genre</th>\n",
       "      <th>Image</th>\n",
       "    </tr>\n",
       "  </thead>\n",
       "  <tbody>\n",
       "    <tr>\n",
       "      <th>0</th>\n",
       "      <td>tt1798632</td>\n",
       "      <td>A young girl tries to understand how she myste...</td>\n",
       "      <td>horror</td>\n",
       "      <td>[[[ 35  11  11]\\n  [ 35  11  11]\\n  [ 35  11  ...</td>\n",
       "    </tr>\n",
       "    <tr>\n",
       "      <th>1</th>\n",
       "      <td>tt9214832</td>\n",
       "      <td>In 1800s England, a well meaning but selfish y...</td>\n",
       "      <td>comedy</td>\n",
       "      <td>[[[ 75 105  97]\\n  [ 69  99  91]\\n  [ 60  89  ...</td>\n",
       "    </tr>\n",
       "    <tr>\n",
       "      <th>2</th>\n",
       "      <td>tt21249656</td>\n",
       "      <td>Olga and Maks are 15 years apart. She is a suc...</td>\n",
       "      <td>romance</td>\n",
       "      <td>[[[254 254 254]\\n  [254 254 254]\\n  [254 254 2...</td>\n",
       "    </tr>\n",
       "    <tr>\n",
       "      <th>3</th>\n",
       "      <td>tt7149730</td>\n",
       "      <td>A reformed hunter living in isolation on a wil...</td>\n",
       "      <td>action</td>\n",
       "      <td>[[[ 77  88  94]\\n  [ 74  85  91]\\n  [ 70  81  ...</td>\n",
       "    </tr>\n",
       "    <tr>\n",
       "      <th>4</th>\n",
       "      <td>tt3876910</td>\n",
       "      <td>A reformed sociopath journeys to a remote isla...</td>\n",
       "      <td>action</td>\n",
       "      <td>[[[244 228 195]\\n  [244 228 195]\\n  [244 228 1...</td>\n",
       "    </tr>\n",
       "  </tbody>\n",
       "</table>\n",
       "</div>"
      ],
      "text/plain": [
       "     movie_id                                        description    genre  \\\n",
       "0   tt1798632  A young girl tries to understand how she myste...   horror   \n",
       "1   tt9214832  In 1800s England, a well meaning but selfish y...   comedy   \n",
       "2  tt21249656  Olga and Maks are 15 years apart. She is a suc...  romance   \n",
       "3   tt7149730  A reformed hunter living in isolation on a wil...   action   \n",
       "4   tt3876910  A reformed sociopath journeys to a remote isla...   action   \n",
       "\n",
       "                                               Image  \n",
       "0  [[[ 35  11  11]\\n  [ 35  11  11]\\n  [ 35  11  ...  \n",
       "1  [[[ 75 105  97]\\n  [ 69  99  91]\\n  [ 60  89  ...  \n",
       "2  [[[254 254 254]\\n  [254 254 254]\\n  [254 254 2...  \n",
       "3  [[[ 77  88  94]\\n  [ 74  85  91]\\n  [ 70  81  ...  \n",
       "4  [[[244 228 195]\\n  [244 228 195]\\n  [244 228 1...  "
      ]
     },
     "execution_count": 2,
     "metadata": {},
     "output_type": "execute_result"
    }
   ],
   "source": [
    "import pandas as pd\n",
    "df=pd.read_csv('../data/Combined.csv')\n",
    "df.drop('Unnamed: 0',axis=1,inplace=True)\n",
    "df.head()"
   ]
  },
  {
   "cell_type": "code",
   "execution_count": 23,
   "metadata": {},
   "outputs": [
    {
     "data": {
      "text/plain": [
       "101598"
      ]
     },
     "execution_count": 23,
     "metadata": {},
     "output_type": "execute_result"
    }
   ],
   "source": [
    "import pandas as pd\n",
    "df=pd.read_csv('../data/Description.csv')\n",
    "df.drop('Unnamed: 0',axis=1,inplace=True)\n",
    "len(df)"
   ]
  },
  {
   "cell_type": "code",
   "execution_count": 26,
   "metadata": {},
   "outputs": [
    {
     "data": {
      "text/plain": [
       "<Axes: xlabel='genre'>"
      ]
     },
     "execution_count": 26,
     "metadata": {},
     "output_type": "execute_result"
    },
    {
     "data": {
      "image/png": "[encoded data removed]",
      "text/plain": [
       "<Figure size 640x480 with 1 Axes>"
      ]
     },
     "metadata": {},
     "output_type": "display_data"
    }
   ],
   "source": [
    "df['genre'].value_counts().plot(kind='bar')"
   ]
  },
  {
   "cell_type": "code",
   "execution_count": null,
   "metadata": {},
   "outputs": [],
   "source": [
    "import pandas as pd\n",
    "from sentence_transformers import SentenceTransformer\n",
    "from imblearn.over_sampling import SMOTE\n",
    "from collections import Counter\n",
    "\n",
    "\n",
    "# Instantiate the SentenceTransformer model\n",
    "model = SentenceTransformer('all-mpnet-base-v2')\n",
    "\n",
    "# Generate contextual embeddings for movie descriptions\n",
    "texts = df['description'].tolist()\n",
    "embeddings = model.encode(texts)\n",
    "\n",
    "# Get the labels (genres)\n",
    "labels = df['genre'].values\n",
    "\n",
    "# Print original distribution\n",
    "print(\"Original class distribution:\", Counter(labels))\n",
    "\n",
    "# Use SMOTE to oversample the minority class (here, 'comedy')\n",
    "# Use k_neighbors=3 due to very few samples for the comedy class\n",
    "smote = SMOTE(sampling_strategy='minority', k_neighbors=3, random_state=42)\n",
    "X_resampled, y_resampled = smote.fit_resample(embeddings, labels)\n",
    "\n",
    "# Print new distribution after oversampling\n",
    "print(\"Resampled class distribution:\", Counter(y_resampled))\n",
    "\n",
    "# X_resampled now contains the oversampled embeddings,\n",
    "# and y_resampled contains the corresponding genre labels.\n",
    "# These can be used to train your downstream classifier.\n"
   ]
  }
 ],
 "metadata": {
  "kernelspec": {
   "display_name": "Python 3",
   "language": "python",
   "name": "python3"
  },
  "language_info": {
   "codemirror_mode": {
    "name": "ipython",
    "version": 3
   },
   "file_extension": ".py",
   "mimetype": "text/x-python",
   "name": "python",
   "nbconvert_exporter": "python",
   "pygments_lexer": "ipython3",
   "version": "3.10.16"
  }
 },
 "nbformat": 4,
 "nbformat_minor": 2
}
