{
 "cells": [
  {
   "cell_type": "code",
   "execution_count": 1,
   "metadata": {},
   "outputs": [
    {
     "data": {
      "text/html": [
       "<div>\n",
       "<style scoped>\n",
       "    .dataframe tbody tr th:only-of-type {\n",
       "        vertical-align: middle;\n",
       "    }\n",
       "\n",
       "    .dataframe tbody tr th {\n",
       "        vertical-align: top;\n",
       "    }\n",
       "\n",
       "    .dataframe thead th {\n",
       "        text-align: right;\n",
       "    }\n",
       "</style>\n",
       "<table border=\"1\" class=\"dataframe\">\n",
       "  <thead>\n",
       "    <tr style=\"text-align: right;\">\n",
       "      <th></th>\n",
       "      <th>description</th>\n",
       "      <th>genre</th>\n",
       "    </tr>\n",
       "  </thead>\n",
       "  <tbody>\n",
       "    <tr>\n",
       "      <th>0</th>\n",
       "      <td>Elle Evans (Joey King) has finally completed h...</td>\n",
       "      <td>romance</td>\n",
       "    </tr>\n",
       "    <tr>\n",
       "      <th>1</th>\n",
       "      <td>A young girl tries to understand how she myste...</td>\n",
       "      <td>horror</td>\n",
       "    </tr>\n",
       "    <tr>\n",
       "      <th>2</th>\n",
       "      <td>In 1800s England, a well meaning but selfish y...</td>\n",
       "      <td>comedy</td>\n",
       "    </tr>\n",
       "    <tr>\n",
       "      <th>3</th>\n",
       "      <td>Abby Holland (Kristen Stewart) and Harper Cald...</td>\n",
       "      <td>romance</td>\n",
       "    </tr>\n",
       "    <tr>\n",
       "      <th>4</th>\n",
       "      <td>Olga and Maks are 15 years apart. She is a suc...</td>\n",
       "      <td>romance</td>\n",
       "    </tr>\n",
       "  </tbody>\n",
       "</table>\n",
       "</div>"
      ],
      "text/plain": [
       "                                         description    genre\n",
       "0  Elle Evans (Joey King) has finally completed h...  romance\n",
       "1  A young girl tries to understand how she myste...   horror\n",
       "2  In 1800s England, a well meaning but selfish y...   comedy\n",
       "3  Abby Holland (Kristen Stewart) and Harper Cald...  romance\n",
       "4  Olga and Maks are 15 years apart. She is a suc...  romance"
      ]
     },
     "execution_count": 1,
     "metadata": {},
     "output_type": "execute_result"
    }
   ],
   "source": [
    "import pandas as pd\n",
    "df=pd.read_csv('../data/raw/IMDB_four_genre_larger_plot_description.csv')\n",
    "df.drop('movie_id',axis=1,inplace=True)\n",
    "df.head()"
   ]
  },
  {
   "cell_type": "code",
   "execution_count": 2,
   "metadata": {},
   "outputs": [
    {
     "data": {
      "text/plain": [
       "0      Elle Evans (Joey King) has finally completed h...\n",
       "1      A young girl tries to understand how she myste...\n",
       "2      In 1800s England, a well meaning but selfish y...\n",
       "3      Abby Holland (Kristen Stewart) and Harper Cald...\n",
       "4      Olga and Maks are 15 years apart. She is a suc...\n",
       "                             ...                        \n",
       "995    In front of their little boy, Camille and Geor...\n",
       "996    After losing his wife and his memory in a car ...\n",
       "997    Based on the true-life experiences of Dave Fis...\n",
       "998    A troupe of hilariously self-obsessed theater ...\n",
       "999    A young mermaid makes a deal with a sea witch ...\n",
       "Name: description, Length: 1000, dtype: object"
      ]
     },
     "execution_count": 2,
     "metadata": {},
     "output_type": "execute_result"
    }
   ],
   "source": [
    "Description=df['description']\n",
    "Description"
   ]
  },
  {
   "cell_type": "code",
   "execution_count": 3,
   "metadata": {},
   "outputs": [],
   "source": [
    "from nltk.tokenize import word_tokenize\n",
    "from nltk.corpus import stopwords\n",
    "from nltk.stem import WordNetLemmatizer\n",
    "import nltk\n",
    "import re"
   ]
  },
  {
   "cell_type": "code",
   "execution_count": null,
   "metadata": {},
   "outputs": [
    {
     "name": "stderr",
     "output_type": "stream",
     "text": [
      "[nltk_data] Downloading package punkt_tab to\n",
      "[nltk_data]     C:\\Users\\testr\\AppData\\Roaming\\nltk_data...\n",
      "[nltk_data]   Package punkt_tab is already up-to-date!\n"
     ]
    },
    {
     "data": {
      "text/plain": [
       "True"
      ]
     },
     "execution_count": 5,
     "metadata": {},
     "output_type": "execute_result"
    }
   ],
   "source": [
    "nltk.download(['punkt', 'wordnet', 'stopwords'])"
   ]
  },
  {
   "cell_type": "code",
   "execution_count": 4,
   "metadata": {},
   "outputs": [],
   "source": [
    "stop_words=stopwords.words('english')"
   ]
  },
  {
   "cell_type": "code",
   "execution_count": 6,
   "metadata": {},
   "outputs": [],
   "source": [
    "WNL=WordNetLemmatizer()\n",
    "def preprocess_text(text: str,return_lst=True) -> list:\n",
    "    text = re.sub(r'[^A-Za-z0-9\\s]', '', text)\n",
    "    text=text.lower()\n",
    "    tokens=word_tokenize(text)\n",
    "    lst=[]\n",
    "    for token in tokens:\n",
    "        if token not in stop_words:\n",
    "            token=WNL.lemmatize(token)\n",
    "            lst.append(token)\n",
    "    if return_lst:\n",
    "        return lst\n",
    "    else:\n",
    "        return ' '.join(lst)\n",
    "processed=Description.apply(preprocess_text,return_lst=False)"
   ]
  },
  {
   "cell_type": "code",
   "execution_count": 7,
   "metadata": {},
   "outputs": [],
   "source": [
    "from sklearn.preprocessing import LabelEncoder\n",
    "LE=LabelEncoder()\n",
    "target=LE.fit_transform(df['genre'])"
   ]
  },
  {
   "cell_type": "code",
   "execution_count": 8,
   "metadata": {},
   "outputs": [],
   "source": [
    "from sklearn.model_selection import train_test_split\n",
    "X_train, X_test, y_train, y_test=train_test_split(processed,target,test_size=0.2,random_state=42)"
   ]
  },
  {
   "cell_type": "code",
   "execution_count": 9,
   "metadata": {},
   "outputs": [],
   "source": [
    "from sklearn.feature_extraction.text import TfidfVectorizer\n",
    "Tfidf=TfidfVectorizer()\n",
    "X_train_vector_sparse=Tfidf.fit_transform(X_train)\n",
    "X_test_vector_sparse=Tfidf.transform(X_test)"
   ]
  },
  {
   "cell_type": "code",
   "execution_count": 10,
   "metadata": {},
   "outputs": [],
   "source": [
    "from sklearn.model_selection import StratifiedKFold, cross_val_score\n",
    "k = 5\n",
    "skf = StratifiedKFold(n_splits=k, shuffle=True, random_state=42)"
   ]
  },
  {
   "cell_type": "code",
   "execution_count": null,
   "metadata": {},
   "outputs": [
    {
     "name": "stdout",
     "output_type": "stream",
     "text": [
      "\n",
      "Logistic Regression Evaluation:\n",
      "Accuracy: 0.7100\n",
      "Precision: 0.7059\n",
      "Recall: 0.7100\n",
      "F1-Score: 0.7070\n",
      "Cross-val Accuracy: 0.7125 (±0.0319)\n",
      "\n",
      "Multinomial NB Evaluation:\n",
      "Accuracy: 0.6950\n",
      "Precision: 0.7275\n",
      "Recall: 0.6950\n",
      "F1-Score: 0.7060\n",
      "Cross-val Accuracy: 0.6825 (±0.0214)\n",
      "\n",
      "Random Forest Evaluation:\n",
      "Accuracy: 0.7200\n",
      "Precision: 0.7191\n",
      "Recall: 0.7200\n",
      "F1-Score: 0.7176\n",
      "Cross-val Accuracy: 0.6750 (±0.0256)\n",
      "\n",
      "Decision Tree Evaluation:\n",
      "Accuracy: 0.4900\n",
      "Precision: 0.4930\n",
      "Recall: 0.4900\n",
      "F1-Score: 0.4724\n",
      "Cross-val Accuracy: 0.4650 (±0.0357)\n"
     ]
    }
   ],
   "source": [
    "from sklearn.linear_model import LogisticRegression\n",
    "from sklearn.naive_bayes import MultinomialNB\n",
    "from sklearn.ensemble import RandomForestClassifier\n",
    "from sklearn.tree import DecisionTreeClassifier\n",
    "from sklearn.metrics import accuracy_score, precision_score, recall_score, f1_score\n",
    "\n",
    "classifiers_tfidf = {\n",
    "    \"Logistic Regression\": LogisticRegression(max_iter=1000),\n",
    "    \"Multinomial NB\": MultinomialNB(),\n",
    "    \"Random Forest\": RandomForestClassifier(n_estimators=100, random_state=42),\n",
    "    \"Decision Tree\": DecisionTreeClassifier(max_depth=5, random_state=42)\n",
    "}\n",
    "\n",
    "# Train and evaluate each classifier\n",
    "for name, clf in classifiers_tfidf.items():\n",
    "    print(f\"\\n{name} Evaluation:\")\n",
    "    \n",
    "    # Train model\n",
    "    clf.fit(X_train_vector_sparse, y_train)\n",
    "    \n",
    "    # Predictions\n",
    "    y_pred = clf.predict(X_test_vector_sparse)\n",
    "    \n",
    "    # Calculate metrics\n",
    "    print(f\"Accuracy: {accuracy_score(y_test, y_pred):.4f}\")\n",
    "    print(f\"Precision: {precision_score(y_test, y_pred, average='weighted'):.4f}\")\n",
    "    print(f\"Recall: {recall_score(y_test, y_pred, average='weighted'):.4f}\")\n",
    "    print(f\"F1-Score: {f1_score(y_test, y_pred, average='weighted'):.4f}\")\n",
    "    \n",
    "    # Cross-validation\n",
    "    cv_scores = cross_val_score(clf, X_train_vector_sparse, y_train, cv=skf, scoring='accuracy')\n",
    "    print(f\"Cross-val Accuracy: {cv_scores.mean():.4f} (±{cv_scores.std():.4f})\")"
   ]
  },
  {
   "cell_type": "markdown",
   "metadata": {},
   "source": [
    "# Word2vec"
   ]
  },
  {
   "cell_type": "code",
   "execution_count": 12,
   "metadata": {},
   "outputs": [],
   "source": [
    "X_train_tokens = [text.split() for text in X_train]\n",
    "X_test_tokens = [text.split() for text in X_test]"
   ]
  },
  {
   "cell_type": "code",
   "execution_count": 45,
   "metadata": {},
   "outputs": [],
   "source": [
    "from gensim.models import Word2Vec\n",
    "model_w2v = Word2Vec(\n",
    "    sentences=X_train_tokens,\n",
    "    window=5,\n",
    "    sg=1\n",
    ")"
   ]
  },
  {
   "cell_type": "code",
   "execution_count": 46,
   "metadata": {},
   "outputs": [],
   "source": [
    "import numpy as np\n",
    "def document_vector(doc_tokens: list, model: 'model') ->'embedding':\n",
    "    vectors = [model.wv[word] for word in doc_tokens if word in model.wv]\n",
    "    if len(vectors) == 0:\n",
    "        return np.zeros(model.vector_size)\n",
    "    return np.mean(vectors, axis=0)\n",
    "\n",
    "X_train_vectors = np.array([document_vector(doc, model_w2v) for doc in X_train_tokens])\n",
    "X_test_vectors = np.array([document_vector(doc, model_w2v) for doc in X_test_tokens])"
   ]
  },
  {
   "cell_type": "code",
   "execution_count": 47,
   "metadata": {},
   "outputs": [
    {
     "name": "stdout",
     "output_type": "stream",
     "text": [
      "\n",
      "Logistic Regression Evaluation:\n",
      "Accuracy: 0.5150\n",
      "Precision: 0.5199\n",
      "Recall: 0.5150\n",
      "F1-Score: 0.5018\n",
      "Cross-val Accuracy: 0.5150 (±0.0346)\n",
      "\n",
      "Gaussian NB Evaluation:\n",
      "Accuracy: 0.5000\n",
      "Precision: 0.5097\n",
      "Recall: 0.5000\n",
      "F1-Score: 0.4965\n",
      "Cross-val Accuracy: 0.5100 (±0.0414)\n",
      "\n",
      "Random Forest Evaluation:\n",
      "Accuracy: 0.5500\n",
      "Precision: 0.5642\n",
      "Recall: 0.5500\n",
      "F1-Score: 0.5546\n",
      "Cross-val Accuracy: 0.5800 (±0.0378)\n",
      "\n",
      "Decision Tree Evaluation:\n",
      "Accuracy: 0.5100\n",
      "Precision: 0.5247\n",
      "Recall: 0.5100\n",
      "F1-Score: 0.5151\n",
      "Cross-val Accuracy: 0.5075 (±0.0419)\n"
     ]
    }
   ],
   "source": [
    "from sklearn.linear_model import LogisticRegression\n",
    "from sklearn.naive_bayes import GaussianNB\n",
    "from sklearn.ensemble import RandomForestClassifier\n",
    "from sklearn.tree import DecisionTreeClassifier\n",
    "from sklearn.metrics import accuracy_score, precision_score, recall_score, f1_score\n",
    "\n",
    "# Initialize classifiers\n",
    "classifiers = {\n",
    "    \"Logistic Regression\": LogisticRegression(max_iter=1000),\n",
    "    \"Gaussian NB\": GaussianNB(),\n",
    "    \"Random Forest\": RandomForestClassifier(n_estimators=100, random_state=42),\n",
    "    \"Decision Tree\": DecisionTreeClassifier(max_depth=5, random_state=42)\n",
    "}\n",
    "for name, clf in classifiers.items():\n",
    "    print(f\"\\n{name} Evaluation:\")\n",
    "    \n",
    "    # Train model\n",
    "    clf.fit(X_train_vectors, y_train)\n",
    "    \n",
    "    # Predictions\n",
    "    y_pred = clf.predict(X_test_vectors)\n",
    "    \n",
    "    # Calculate metrics\n",
    "    print(f\"Accuracy: {accuracy_score(y_test, y_pred):.4f}\")\n",
    "    print(f\"Precision: {precision_score(y_test, y_pred, average='weighted'):.4f}\")\n",
    "    print(f\"Recall: {recall_score(y_test, y_pred, average='weighted'):.4f}\")\n",
    "    print(f\"F1-Score: {f1_score(y_test, y_pred, average='weighted'):.4f}\")\n",
    "    \n",
    "    # Cross-validation\n",
    "    cv_scores = cross_val_score(clf, X_train_vectors, y_train, cv=skf, scoring='accuracy')\n",
    "    print(f\"Cross-val Accuracy: {cv_scores.mean():.4f} (±{cv_scores.std():.4f})\")"
   ]
  },
  {
   "cell_type": "markdown",
   "metadata": {},
   "source": [
    "isnt capturing long term dependencies"
   ]
  },
  {
   "cell_type": "markdown",
   "metadata": {},
   "source": [
    "# testing on query"
   ]
  },
  {
   "cell_type": "markdown",
   "metadata": {},
   "source": [
    "<h3> Tf-Idf"
   ]
  },
  {
   "cell_type": "code",
   "execution_count": 36,
   "metadata": {},
   "outputs": [],
   "source": [
    "john_wick='With the price on his head ever increasing, legendary hit man John Wick takes his fight against the High Table global as he seeks out the most powerful players in the underworld, from New York to Paris to Japan to Berlin.'\n",
    "text=preprocess_text(john_wick,return_lst=False)"
   ]
  },
  {
   "cell_type": "code",
   "execution_count": 37,
   "metadata": {},
   "outputs": [],
   "source": [
    "text_tfidf=Tfidf.transform([text])"
   ]
  },
  {
   "cell_type": "code",
   "execution_count": 38,
   "metadata": {},
   "outputs": [
    {
     "data": {
      "text/plain": [
       "array([0])"
      ]
     },
     "execution_count": 38,
     "metadata": {},
     "output_type": "execute_result"
    }
   ],
   "source": [
    "classifiers_tfidf['Logistic Regression'].predict(text_tfidf)"
   ]
  },
  {
   "cell_type": "code",
   "execution_count": 39,
   "metadata": {},
   "outputs": [
    {
     "data": {
      "text/plain": [
       "array(['action'], dtype=object)"
      ]
     },
     "execution_count": 39,
     "metadata": {},
     "output_type": "execute_result"
    }
   ],
   "source": [
    "LE.inverse_transform([0])"
   ]
  },
  {
   "cell_type": "markdown",
   "metadata": {},
   "source": [
    "<h3> W2V"
   ]
  },
  {
   "cell_type": "code",
   "execution_count": 43,
   "metadata": {},
   "outputs": [
    {
     "data": {
      "text/plain": [
       "array([0])"
      ]
     },
     "execution_count": 43,
     "metadata": {},
     "output_type": "execute_result"
    }
   ],
   "source": [
    "embedding_w2v=document_vector(john_wick,model_w2v)\n",
    "classifiers['Logistic Regression'].predict([embedding_w2v])"
   ]
  },
  {
   "cell_type": "code",
   "execution_count": 44,
   "metadata": {},
   "outputs": [
    {
     "data": {
      "text/plain": [
       "array(['action'], dtype=object)"
      ]
     },
     "execution_count": 44,
     "metadata": {},
     "output_type": "execute_result"
    }
   ],
   "source": [
    "LE.inverse_transform([0])"
   ]
  }
 ],
 "metadata": {
  "kernelspec": {
   "display_name": "Python 3",
   "language": "python",
   "name": "python3"
  },
  "language_info": {
   "codemirror_mode": {
    "name": "ipython",
    "version": 3
   },
   "file_extension": ".py",
   "mimetype": "text/x-python",
   "name": "python",
   "nbconvert_exporter": "python",
   "pygments_lexer": "ipython3",
   "version": "3.10.16"
  }
 },
 "nbformat": 4,
 "nbformat_minor": 2
}
